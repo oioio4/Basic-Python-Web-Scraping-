{
 "cells": [
  {
   "cell_type": "code",
   "execution_count": 29,
   "id": "1a8c6399",
   "metadata": {},
   "outputs": [],
   "source": [
    "import requests\n",
    "from bs4 import BeautifulSoup\n",
    "import pandas as pd"
   ]
  },
  {
   "cell_type": "code",
   "execution_count": 32,
   "id": "8e85a3e5",
   "metadata": {},
   "outputs": [],
   "source": [
    "books = []\n",
    "for i in range(1, 5): \n",
    "    url = \"https://books.toscrape.com/catalogue/page-\" + str(i) + \".html\"\n",
    "    response = requests.get(url).content\n",
    "    soup = BeautifulSoup(response, 'html.parser')\n",
    "    ol = soup.find('ol')\n",
    "    articles = ol.find_all('article', class_='product_pod')\n",
    "\n",
    "    for article in articles:\n",
    "        image = article.find('img')\n",
    "        title = image.attrs['alt']\n",
    "        star = article.find('p')['class'][1]\n",
    "        price_str = article.find('p', class_='price_color').text\n",
    "        price = float(price_str[1:])\n",
    "        books.append([title, price, star])"
   ]
  },
  {
   "cell_type": "code",
   "execution_count": 34,
   "id": "a192b192",
   "metadata": {},
   "outputs": [],
   "source": [
    "df = pd.DataFrame(books, columns=['Title', 'Price', 'Star Rating'])"
   ]
  },
  {
   "cell_type": "code",
   "execution_count": 35,
   "id": "58676915",
   "metadata": {},
   "outputs": [],
   "source": [
    "df.to_csv('books.csv')"
   ]
  },
  {
   "cell_type": "code",
   "execution_count": null,
   "id": "17fba254",
   "metadata": {},
   "outputs": [],
   "source": []
  }
 ],
 "metadata": {
  "kernelspec": {
   "display_name": "Python 3 (ipykernel)",
   "language": "python",
   "name": "python3"
  },
  "language_info": {
   "codemirror_mode": {
    "name": "ipython",
    "version": 3
   },
   "file_extension": ".py",
   "mimetype": "text/x-python",
   "name": "python",
   "nbconvert_exporter": "python",
   "pygments_lexer": "ipython3",
   "version": "3.11.5"
  }
 },
 "nbformat": 4,
 "nbformat_minor": 5
}
